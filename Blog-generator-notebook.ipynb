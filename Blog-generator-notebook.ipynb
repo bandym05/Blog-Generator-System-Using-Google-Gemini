{
  "nbformat": 4,
  "nbformat_minor": 0,
  "metadata": {
    "colab": {
      "provenance": []
    },
    "kernelspec": {
      "name": "python3",
      "display_name": "Python 3"
    },
    "language_info": {
      "name": "python"
    }
  },
  "cells": [
    {
      "cell_type": "code",
      "execution_count": 22,
      "metadata": {
        "id": "06KGCmmSTQY_"
      },
      "outputs": [],
      "source": [
        "!pip install langchain\n",
        "%pip install --upgrade --quiet  wikipedia"
      ]
    },
    {
      "cell_type": "code",
      "source": [
        "from langchain_community.document_loaders import WikipediaLoader"
      ],
      "metadata": {
        "id": "ZCnktv6lTacL"
      },
      "execution_count": 5,
      "outputs": []
    },
    {
      "cell_type": "markdown",
      "source": [
        "Get Gemini API key saved in secrets and configure Google Gemini for text generation"
      ],
      "metadata": {
        "id": "YS3yw5NAYYen"
      }
    },
    {
      "cell_type": "code",
      "source": [
        "from google.colab import userdata\n",
        "import google.generativeai as genai\n",
        "\n",
        "# Retrieve your API key stored as a secret\n",
        "api_key = userdata.get('GEMINI_API_KEY')\n",
        "\n",
        "# Configure the API with your key\n",
        "genai.configure(api_key=api_key)\n",
        "\n",
        "# Initialize the generative model\n",
        "model = genai.GenerativeModel('gemini-pro')"
      ],
      "metadata": {
        "id": "-Kc6xKRqTkGd"
      },
      "execution_count": 19,
      "outputs": []
    },
    {
      "cell_type": "markdown",
      "source": [
        "Function to generate the blog content"
      ],
      "metadata": {
        "id": "qDZdl7hDYmG5"
      }
    },
    {
      "cell_type": "code",
      "source": [
        "def generate_blog(topic):\n",
        "\n",
        "    # Research the topic using Wikipedia\n",
        "    wiki_loader = WikipediaLoader(query=topic, load_max_docs=1)\n",
        "    wiki_summary = wiki_loader.load()[0].page_content[:200]  # Truncate summary\n",
        "\n",
        "    # Generating blog sections using the Gemini API\n",
        "    heading = model.generate_content(\n",
        "        \"Generate a clear and concise heading for a blog about \" + topic\n",
        "    ).text.strip()\n",
        "\n",
        "    introduction = model.generate_content(\n",
        "        \"Write an engaging introduction to a blog about \" + topic\n",
        "    ).text.strip()\n",
        "\n",
        "    content = model.generate_content(\n",
        "        \"Create detailed and informative content for a blog about \"\n",
        "        + topic + \". Include relevant facts and figures, and cite sources where necessary. Summarize the key points from the provided Wikipedia summary: \"\n",
        "        + wiki_summary\n",
        "    ).text.strip()\n",
        "\n",
        "    summary = model.generate_content(\n",
        "        \"Summarize the main points covered in the blog about \" + topic\n",
        "    ).text.strip()\n",
        "\n",
        "    # Return the generated blog sections\n",
        "    return {\n",
        "        \"heading\": heading,\n",
        "        \"introduction\": introduction,\n",
        "        \"content\": content,\n",
        "        \"summary\": summary,\n",
        "    }\n"
      ],
      "metadata": {
        "id": "dj6qpnjsUbag"
      },
      "execution_count": 20,
      "outputs": []
    },
    {
      "cell_type": "markdown",
      "source": [
        "Example"
      ],
      "metadata": {
        "id": "4tlc5YzRYp6K"
      }
    },
    {
      "cell_type": "code",
      "source": [
        "# Example usage\n",
        "topic = \"Climate Change\"\n",
        "blog = generate_blog(topic)\n",
        "\n",
        "print(\"Heading:\", blog[\"heading\"])\n",
        "print(\"Introduction:\", blog[\"introduction\"])\n",
        "print(\"Content:\", blog[\"content\"])\n",
        "print(\"Summary:\", blog[\"summary\"])"
      ],
      "metadata": {
        "colab": {
          "base_uri": "https://localhost:8080/",
          "height": 1000
        },
        "id": "QvZO20s7U2hi",
        "outputId": "9066706b-fc80-4eed-d995-1fee120cddd1"
      },
      "execution_count": 21,
      "outputs": [
        {
          "output_type": "stream",
          "name": "stdout",
          "text": [
            "Heading: **Climate Change: The Defining Challenge of Our Time**\n",
            "Introduction: **Climate Uncharted: Navigating the Perilous Waters of a Changing Planet**\n",
            "\n",
            "In the uncharted waters of the Anthropocene, our planet stands on a precipice. The tides of climate change are rising, threatening to engulf our shores and alter the course of human history forever.\n",
            "\n",
            "The scientific consensus is deafening: human activities are the primary drivers of the Earth's rapidly warming climate. The relentless pursuit of fossil fuels, deforestation, and industrialization are releasing unprecedented levels of greenhouse gases into the atmosphere, trapping heat and setting the stage for catastrophic consequences.\n",
            "\n",
            "As the world grapples with this profound crisis, we find ourselves at a crossroads. We can choose to ignore the warnings, to cling to outdated paradigms, and bequeath a legacy of environmental devastation to future generations. Or, we can rise to the challenge, embark on a transformative journey, and forge a sustainable path forward.\n",
            "\n",
            "This blog is a beacon of hope and action in the face of climate change. Here, we will delve into the complexities of this global emergency, explore its far-reaching implications, and empower you with the knowledge and tools needed to become part of the solution.\n",
            "\n",
            "Join us on this voyage into the uncharted waters of climate change. Together, we will chart a course toward a future where humanity and the environment can thrive in harmony.\n",
            "Content: **Unveiling the Urgency: Climate Change Explained**\n",
            "\n",
            "**Introduction:**\n",
            "Climate change is a global crisis that is reshaping our planet's future. It refers to the long-term alteration of the Earth's climate system, primarily driven by human activities that release greenhouse gases into the atmosphere.\n",
            "\n",
            "**Key Points:**\n",
            "1. **Global Warming:** At the heart of climate change lies global warming, the sustained increase in Earth's average temperature due to greenhouse gas emissions. These gases, such as carbon dioxide and methane, trap heat in the atmosphere, leading to higher temperatures.\n",
            "2. **Climate System Effects:** Global warming has far-reaching impacts on the Earth's climate system. It intensifies extreme weather events like hurricanes, droughts, and heat waves, while also altering precipitation patterns, sea levels, and ecosystems.\n",
            "3. **Human Activity as a Driver:** The vast majority of scientific consensus attributes climate change to human activities, particularly the burning of fossil fuels for energy and transportation. These activities release significant amounts of carbon dioxide and other greenhouse gases into the atmosphere.\n",
            "4. **Environmental Impacts:** Climate change poses severe threats to ecosystems, biodiversity, and natural resources. It leads to habitat loss, species extinction, ocean acidification, and disruption of food chains.\n",
            "5. **Socioeconomic Consequences:** Climate change has dire socioeconomic consequences, including food insecurity, water shortages, displacement of populations, and increased health risks for vulnerable communities.\n",
            "\n",
            "**Facts and Figures:**\n",
            "\n",
            "* The global average temperature has risen by approximately 1.1°C (2°F) since the late 19th century.\n",
            "* Greenhouse gas emissions have increased by over 50% since the pre-industrial era.\n",
            "* The five warmest years on record have occurred since 2010.\n",
            "* Extreme weather events have become more frequent and intense in recent decades.\n",
            "* Climate change is estimated to cost the global economy trillions of dollars annually by mid-century.\n",
            "\n",
            "**Mitigation and Adaptation:**\n",
            "\n",
            "Addressing climate change requires a two-pronged approach:\n",
            "\n",
            "1. **Mitigation:** Reducing greenhouse gas emissions by transitioning to renewable energy sources, improving energy efficiency, and implementing carbon capture technologies.\n",
            "2. **Adaptation:** Adapting to the inevitable impacts of climate change by building resilience in infrastructure, agriculture, and communities that are most vulnerable.\n",
            "\n",
            "**Conclusion:**\n",
            "\n",
            "Climate change is a pressing and urgent issue that requires immediate action. By understanding the causes, effects, and potential solutions, we can work together to mitigate its impacts and create a sustainable future for generations to come. As the primary driver of this global crisis, human society bears the responsibility to address it with the utmost urgency.\n",
            "\n",
            "**Sources:**\n",
            "\n",
            "* Intergovernmental Panel on Climate Change (IPCC): https://www.ipcc.ch/\n",
            "* National Aeronautics and Space Administration (NASA): https://climate.nasa.gov/\n",
            "* United Nations Framework Convention on Climate Change (UNFCCC): https://unfccc.int/\n",
            "Summary: **Main Points of the Blog on Climate Change:**\n",
            "\n",
            "* **Definition and Causes:**\n",
            "    * Climate change refers to long-term changes in global temperatures and weather patterns.\n",
            "    * Primary cause is the accumulation of greenhouse gases (e.g., carbon dioxide) in the atmosphere, primarily due to human activities (burning fossil fuels, deforestation).\n",
            "\n",
            "* **Impacts:**\n",
            "    * Rising sea levels due to melting glaciers and thermal expansion of oceans.\n",
            "    * More frequent and intense extreme weather events (e.g., hurricanes, heat waves, droughts).\n",
            "    * Negative effects on ecosystems, biodiversity, and human health.\n",
            "\n",
            "* **Mitigation:**\n",
            "    * Reducing greenhouse gas emissions through renewable energy sources, energy efficiency, and sustainable transportation.\n",
            "    * Carbon capture and storage technologies to remove CO2 from the atmosphere.\n",
            "\n",
            "* **Adaptation:**\n",
            "    * Taking measures to adapt to the inevitable impacts of climate change.\n",
            "    * Building flood defenses, improving agricultural resilience, and developing early warning systems.\n",
            "\n",
            "* **International Cooperation:**\n",
            "    * Importance of global agreements and commitments to reduce emissions and mitigate climate change.\n",
            "    * Climate finances to support mitigation and adaptation efforts in developing countries.\n",
            "\n",
            "* **Urgency and Action:**\n",
            "    * Climate change is an urgent threat and decisive action is required.\n",
            "    * Importance of political will, technological innovation, and public engagement.\n"
          ]
        }
      ]
    },
    {
      "cell_type": "code",
      "source": [],
      "metadata": {
        "id": "9vF7XQTBU9mv"
      },
      "execution_count": null,
      "outputs": []
    }
  ]
}